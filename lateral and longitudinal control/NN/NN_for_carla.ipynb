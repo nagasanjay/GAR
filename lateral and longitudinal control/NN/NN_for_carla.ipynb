{
  "nbformat": 4,
  "nbformat_minor": 0,
  "metadata": {
    "colab": {
      "name": "NN_for_carla.ipynb",
      "provenance": [],
      "collapsed_sections": [],
      "toc_visible": true
    },
    "kernelspec": {
      "name": "python3",
      "display_name": "Python 3"
    }
  },
  "cells": [
    {
      "cell_type": "markdown",
      "metadata": {
        "id": "p0NdqQxKtRtA"
      },
      "source": [
        "# extract dataset"
      ]
    },
    {
      "cell_type": "code",
      "metadata": {
        "id": "2GGy_gX_SOZL"
      },
      "source": [
        "!unzip -q drive/My\\ Drive/carla/dataset/dataset.zip "
      ],
      "execution_count": null,
      "outputs": []
    },
    {
      "cell_type": "code",
      "metadata": {
        "id": "fOfQ3GyhTnNL"
      },
      "source": [
        "%matplotlib inline"
      ],
      "execution_count": null,
      "outputs": []
    },
    {
      "cell_type": "markdown",
      "metadata": {
        "id": "Yhs6iXsqqFKl"
      },
      "source": [
        "# analysis of dataset"
      ]
    },
    {
      "cell_type": "code",
      "metadata": {
        "id": "ev618VJpqHnr"
      },
      "source": [
        "import pandas as pd\n",
        "import numpy as np\n",
        "import matplotlib.pyplot as plt\n",
        "\n",
        "% matplotlib inline"
      ],
      "execution_count": null,
      "outputs": []
    },
    {
      "cell_type": "code",
      "metadata": {
        "id": "NrOAjTPTqQ1s"
      },
      "source": [
        "data = pd.read_csv('dataset/dataset.csv', delimiter=',', header=None)\n",
        "data = data.iloc[:,1:6]"
      ],
      "execution_count": null,
      "outputs": []
    },
    {
      "cell_type": "code",
      "metadata": {
        "id": "BuhDytu8qgi6"
      },
      "source": [
        "data.describe()"
      ],
      "execution_count": null,
      "outputs": []
    },
    {
      "cell_type": "code",
      "metadata": {
        "id": "fZld2BSVrYHI"
      },
      "source": [
        "!head /content/dataset/dataset.csv"
      ],
      "execution_count": null,
      "outputs": []
    },
    {
      "cell_type": "code",
      "metadata": {
        "id": "NtXgCY8-qj89",
        "outputId": "3ab71bf7-7533-430f-e3d4-392184e65245",
        "colab": {
          "base_uri": "https://localhost:8080/",
          "height": 400
        }
      },
      "source": [
        "data.hist()"
      ],
      "execution_count": null,
      "outputs": [
        {
          "output_type": "execute_result",
          "data": {
            "text/plain": [
              "array([[<matplotlib.axes._subplots.AxesSubplot object at 0x7fc8a7e17f60>,\n",
              "        <matplotlib.axes._subplots.AxesSubplot object at 0x7fc8a7df4278>],\n",
              "       [<matplotlib.axes._subplots.AxesSubplot object at 0x7fc8a7da64e0>,\n",
              "        <matplotlib.axes._subplots.AxesSubplot object at 0x7fc8a7dd5748>],\n",
              "       [<matplotlib.axes._subplots.AxesSubplot object at 0x7fc8a7d859b0>,\n",
              "        <matplotlib.axes._subplots.AxesSubplot object at 0x7fc8a7cf6c18>]],\n",
              "      dtype=object)"
            ]
          },
          "metadata": {
            "tags": []
          },
          "execution_count": 13
        },
        {
          "output_type": "display_data",
          "data": {
            "image/png": "[encoded data removed]",
            "text/plain": [
              "<Figure size 432x288 with 6 Axes>"
            ]
          },
          "metadata": {
            "tags": [],
            "needs_background": "light"
          }
        }
      ]
    },
    {
      "cell_type": "code",
      "metadata": {
        "id": "C5Lc3vw9q35k"
      },
      "source": [
        "def getIndex(data):\n",
        "    index = []\n",
        "    for i in range(data.shape[0]):\n",
        "        row = data[i, :]\n",
        "        if row[-1] == 1:\n",
        "            if row[-2] == 0.0:\n",
        "                if row[2] > 0.48 and row[2] < 0.52:\n",
        "                    if row[0] > 15 and row[1] < 20:\n",
        "                        index.append(i)\n",
        "    \n",
        "    return index\n",
        "                        \n",
        "\n",
        "def filter(data):\n",
        "    d = data.drop(getIndex(data.to_numpy()))\n",
        "    return d"
      ],
      "execution_count": null,
      "outputs": []
    },
    {
      "cell_type": "code",
      "metadata": {
        "id": "8J-Q3Eegu0t3",
        "outputId": "00fe4d76-eccb-41a6-ffea-63af7c56f50c",
        "colab": {
          "base_uri": "https://localhost:8080/",
          "height": 297
        }
      },
      "source": [
        "d = filter(data)\n",
        "d.describe()"
      ],
      "execution_count": null,
      "outputs": [
        {
          "output_type": "execute_result",
          "data": {
            "text/html": [
              "<div>\n",
              "<style scoped>\n",
              "    .dataframe tbody tr th:only-of-type {\n",
              "        vertical-align: middle;\n",
              "    }\n",
              "\n",
              "    .dataframe tbody tr th {\n",
              "        vertical-align: top;\n",
              "    }\n",
              "\n",
              "    .dataframe thead th {\n",
              "        text-align: right;\n",
              "    }\n",
              "</style>\n",
              "<table border=\"1\" class=\"dataframe\">\n",
              "  <thead>\n",
              "    <tr style=\"text-align: right;\">\n",
              "      <th></th>\n",
              "      <th>1</th>\n",
              "      <th>2</th>\n",
              "      <th>3</th>\n",
              "      <th>4</th>\n",
              "      <th>5</th>\n",
              "    </tr>\n",
              "  </thead>\n",
              "  <tbody>\n",
              "    <tr>\n",
              "      <th>count</th>\n",
              "      <td>1553.000000</td>\n",
              "      <td>1553.000000</td>\n",
              "      <td>1553.000000</td>\n",
              "      <td>1553.000000</td>\n",
              "      <td>1553.000000</td>\n",
              "    </tr>\n",
              "    <tr>\n",
              "      <th>mean</th>\n",
              "      <td>16.578815</td>\n",
              "      <td>0.422395</td>\n",
              "      <td>0.476603</td>\n",
              "      <td>0.033612</td>\n",
              "      <td>0.752093</td>\n",
              "    </tr>\n",
              "    <tr>\n",
              "      <th>std</th>\n",
              "      <td>6.639723</td>\n",
              "      <td>0.187100</td>\n",
              "      <td>0.083147</td>\n",
              "      <td>0.165800</td>\n",
              "      <td>0.655840</td>\n",
              "    </tr>\n",
              "    <tr>\n",
              "      <th>min</th>\n",
              "      <td>0.000000</td>\n",
              "      <td>0.000000</td>\n",
              "      <td>0.200000</td>\n",
              "      <td>0.000000</td>\n",
              "      <td>0.000000</td>\n",
              "    </tr>\n",
              "    <tr>\n",
              "      <th>25%</th>\n",
              "      <td>16.760000</td>\n",
              "      <td>0.340000</td>\n",
              "      <td>0.415000</td>\n",
              "      <td>0.000000</td>\n",
              "      <td>0.000000</td>\n",
              "    </tr>\n",
              "    <tr>\n",
              "      <th>50%</th>\n",
              "      <td>16.840000</td>\n",
              "      <td>0.440000</td>\n",
              "      <td>0.470000</td>\n",
              "      <td>0.000000</td>\n",
              "      <td>1.000000</td>\n",
              "    </tr>\n",
              "    <tr>\n",
              "      <th>75%</th>\n",
              "      <td>17.910000</td>\n",
              "      <td>0.450000</td>\n",
              "      <td>0.505000</td>\n",
              "      <td>0.000000</td>\n",
              "      <td>1.000000</td>\n",
              "    </tr>\n",
              "    <tr>\n",
              "      <th>max</th>\n",
              "      <td>51.500000</td>\n",
              "      <td>1.000000</td>\n",
              "      <td>0.760000</td>\n",
              "      <td>1.000000</td>\n",
              "      <td>2.000000</td>\n",
              "    </tr>\n",
              "  </tbody>\n",
              "</table>\n",
              "</div>"
            ],
            "text/plain": [
              "                 1            2            3            4            5\n",
              "count  1553.000000  1553.000000  1553.000000  1553.000000  1553.000000\n",
              "mean     16.578815     0.422395     0.476603     0.033612     0.752093\n",
              "std       6.639723     0.187100     0.083147     0.165800     0.655840\n",
              "min       0.000000     0.000000     0.200000     0.000000     0.000000\n",
              "25%      16.760000     0.340000     0.415000     0.000000     0.000000\n",
              "50%      16.840000     0.440000     0.470000     0.000000     1.000000\n",
              "75%      17.910000     0.450000     0.505000     0.000000     1.000000\n",
              "max      51.500000     1.000000     0.760000     1.000000     2.000000"
            ]
          },
          "metadata": {
            "tags": []
          },
          "execution_count": 15
        }
      ]
    },
    {
      "cell_type": "code",
      "metadata": {
        "id": "LBt8lTpuu6rT",
        "outputId": "647e1796-17ff-4b16-e622-c9707eac68c3",
        "colab": {
          "base_uri": "https://localhost:8080/",
          "height": 400
        }
      },
      "source": [
        "d.hist()"
      ],
      "execution_count": null,
      "outputs": [
        {
          "output_type": "execute_result",
          "data": {
            "text/plain": [
              "array([[<matplotlib.axes._subplots.AxesSubplot object at 0x7fc89f8b15c0>,\n",
              "        <matplotlib.axes._subplots.AxesSubplot object at 0x7fc89f84cef0>],\n",
              "       [<matplotlib.axes._subplots.AxesSubplot object at 0x7fc89f80b198>,\n",
              "        <matplotlib.axes._subplots.AxesSubplot object at 0x7fc89f840400>],\n",
              "       [<matplotlib.axes._subplots.AxesSubplot object at 0x7fc89f7f1668>,\n",
              "        <matplotlib.axes._subplots.AxesSubplot object at 0x7fc89f7a58d0>]],\n",
              "      dtype=object)"
            ]
          },
          "metadata": {
            "tags": []
          },
          "execution_count": 16
        },
        {
          "output_type": "display_data",
          "data": {
            "image/png": "[encoded data removed]",
            "text/plain": [
              "<Figure size 432x288 with 6 Axes>"
            ]
          },
          "metadata": {
            "tags": [],
            "needs_background": "light"
          }
        }
      ]
    },
    {
      "cell_type": "markdown",
      "metadata": {
        "id": "bT-D2BkkBTkK"
      },
      "source": [
        "#models definition"
      ]
    },
    {
      "cell_type": "markdown",
      "metadata": {
        "id": "CeJRsN9RBWS0"
      },
      "source": [
        "## direction model"
      ]
    },
    {
      "cell_type": "code",
      "metadata": {
        "id": "e5DhYbi-Xgc7"
      },
      "source": [
        "# necessary imports\n",
        "from tensorflow.keras.models import Model\n",
        "from tensorflow.keras.layers import Input, Dense, Flatten, Conv2D, Conv1D, MaxPooling2D\n",
        "from tensorflow.keras.utils import plot_model\n",
        "import tensorflow as tf\n",
        "import sys"
      ],
      "execution_count": null,
      "outputs": []
    },
    {
      "cell_type": "code",
      "metadata": {
        "id": "MQOyeOwr_6j7"
      },
      "source": [
        "def directionModel(shape=(144, 144, 3), option=\"flatten\"):\n",
        "    visible = Input(shape=shape)\n",
        "\n",
        "    conv1 = Conv2D(16, kernel_size=5, activation='relu', padding='valid')(visible)\n",
        "    pool1 = MaxPooling2D(pool_size=(2, 2))(conv1)\n",
        "\n",
        "    conv2 = Conv2D(32, kernel_size=3, activation='relu', padding='valid')(pool1)\n",
        "    pool2 = MaxPooling2D(pool_size=(2, 2))(conv2)\n",
        "\n",
        "    conv3 = Conv2D(64, kernel_size=3, activation='relu', padding='valid')(pool2)\n",
        "    pool3 = MaxPooling2D(pool_size=(2, 2))(conv3)\n",
        "\n",
        "    conv4 = Conv2D(128, kernel_size=3, activation='relu', padding='valid')(pool3)\n",
        "    pool4 = MaxPooling2D(pool_size=(2, 2))(conv4)\n",
        "\n",
        "    # way 1 to flatten - many params\n",
        "    if option == 'flatten':\n",
        "        flat = Flatten()(pool4)\n",
        "\n",
        "    # way 2 to flatten - less params\n",
        "    elif option == 'conv1d':\n",
        "        conv5 = Conv1D(1024, kernel_size=3, activation='relu', padding='same')(pool4)\n",
        "        flat  = MaxPooling2D(pool_size=(conv5.shape[1], conv5.shape[2]))(conv5)\n",
        "        flat = tf.squeeze(flat, axis=[1, 2])\n",
        "\n",
        "    # mentioned method doesn't exist\n",
        "    else:\n",
        "        print(\"\\nInvalid flatten option\")\n",
        "        sys.exit(1)\n",
        "\n",
        "    hidden1 = Dense(512, activation='relu')(flat)\n",
        "    hidden2 = Dense(128, activation='relu')(hidden1)\n",
        "\n",
        "    # direction\n",
        "    output1 = Dense(3, activation='softmax')(hidden2)\n",
        "\n",
        "    model = Model(inputs=visible, outputs=output1)\n",
        "    return model\n"
      ],
      "execution_count": null,
      "outputs": []
    },
    {
      "cell_type": "code",
      "metadata": {
        "id": "9aL9HAWx_8OJ"
      },
      "source": [
        "\n",
        "model = directionModel()\n",
        "#model.summary()\n",
        "#plot_model(model)"
      ],
      "execution_count": null,
      "outputs": []
    },
    {
      "cell_type": "markdown",
      "metadata": {
        "id": "3j88nAqdBaoe"
      },
      "source": [
        "## signals model"
      ]
    },
    {
      "cell_type": "code",
      "metadata": {
        "id": "mGxXa4kmAQM5"
      },
      "source": [
        "def signalsModel():\n",
        "    input = Input(shape=(2))\n",
        "\n",
        "    hidden1 = Dense(16, activation='relu')(input)\n",
        "    hidden2 = Dense(32, activation='relu')(hidden1)\n",
        "    hidden3 = Dense(64, activation='relu')(hidden2)\n",
        "    hidden4 = Dense(32, activation='relu')(hidden3)\n",
        "\n",
        "    output = Dense(3, activation='sigmoid')(hidden4)\n",
        "\n",
        "    model = Model(inputs=input, outputs=output)\n",
        "    return model"
      ],
      "execution_count": null,
      "outputs": []
    },
    {
      "cell_type": "code",
      "metadata": {
        "id": "1C32DzhkTXhq"
      },
      "source": [
        "model = signalsModel()\n",
        "#model.summary()\n",
        "#plot_model(model)"
      ],
      "execution_count": null,
      "outputs": []
    },
    {
      "cell_type": "markdown",
      "metadata": {
        "id": "ElEH8uwIDoYC"
      },
      "source": [
        "# preprocessing"
      ]
    },
    {
      "cell_type": "code",
      "metadata": {
        "id": "YGfIRaa6DnqV"
      },
      "source": [
        "import csv\n",
        "import cv2\n",
        "import sys\n",
        "import os\n",
        "import numpy as np"
      ],
      "execution_count": null,
      "outputs": []
    },
    {
      "cell_type": "code",
      "metadata": {
        "id": "cAuWJ0zjDuMt"
      },
      "source": [
        "BASE_PATH = \"/content/\"\n",
        "file = BASE_PATH + \"/dataset/dataset.csv\""
      ],
      "execution_count": null,
      "outputs": []
    },
    {
      "cell_type": "markdown",
      "metadata": {
        "id": "zPL7AtZgD-R3"
      },
      "source": [
        "## process signals"
      ]
    },
    {
      "cell_type": "code",
      "metadata": {
        "id": "Iweey8IfEGB0"
      },
      "source": [
        "def choose_dir(s):\n",
        "    x = s[-2]\n",
        "    if x < 0.45:\n",
        "        return 0\n",
        "    elif x > 0.55:\n",
        "        return 2\n",
        "    return 1\n",
        "\n",
        "def convert(r):\n",
        "    for i in range(1, len(r)):\n",
        "        r[i] = round(float(r[i]), 2)\n",
        "    r[-2] = (r[-2] + 1) / 2.0\n",
        "    return r\n",
        "\n",
        "def process_signals(file):\n",
        "    signals = []\n",
        "    with open(file, 'r') as f:\n",
        "        reader = csv.reader(f, delimiter=',')\n",
        "        for row in reader:\n",
        "            signals.append(row)\n",
        "\n",
        "    print(signals[0])\n",
        "    signals = list(map(convert, signals))\n",
        "    print(signals[0])\n",
        "    dir = list(map(choose_dir, signals))\n",
        "    print(signals[0])\n",
        "\n",
        "    for i in range(len(dir)):\n",
        "        signals[i].append(dir[i])\n",
        "\n",
        "    print(signals[0])\n",
        "    with open(file, 'w', newline='') as f:\n",
        "        writer = csv.writer(f)\n",
        "        writer.writerows(signals)"
      ],
      "execution_count": null,
      "outputs": []
    },
    {
      "cell_type": "markdown",
      "metadata": {
        "id": "CIU_pWsuEK1A"
      },
      "source": [
        "## process images"
      ]
    },
    {
      "cell_type": "code",
      "metadata": {
        "id": "w-EKJbx7EMoa"
      },
      "source": [
        "def process_images(file, BASE_PATH, dim):\n",
        "    files = []\n",
        "    names = []\n",
        "    with open(file) as f:\n",
        "        try:\n",
        "            os.makedirs('/content/dataset/train/0')\n",
        "            os.makedirs('/content/dataset/train/1')\n",
        "            os.makedirs('/content/dataset/train/2')\n",
        "        except:\n",
        "            pass\n",
        "            \n",
        "        reader = csv.reader(f, delimiter=',')\n",
        "        for row in reader:\n",
        "            files.append(BASE_PATH + \"/dataset/\" + row[0])\n",
        "            if row[-1] == '0' :\n",
        "                names.append(BASE_PATH+\"dataset/train/0/\"+row[0])\n",
        "            elif row[-1] == '1' :\n",
        "                names.append(BASE_PATH+\"dataset/train/1/\"+row[0])\n",
        "            else:\n",
        "                names.append(BASE_PATH+\"dataset/train/2/\"+row[0])\n",
        "\n",
        "    i = 0\n",
        "    for fname in files:    \n",
        "        img = cv2.imread(fname)\n",
        "        img = cv2.Canny(img,70,100)\n",
        "        height, width = img.shape[:2]\n",
        "\n",
        "        start_row, start_col = int(height * .5), int(0)\n",
        "        end_row, end_col = int(height), int(width)\n",
        "        img = img[start_row:end_row , start_col:end_col]\n",
        "\n",
        "        img = cv2.resize(img, dim, interpolation = cv2.INTER_AREA)\n",
        "        cv2.imwrite(names[i], img)\n",
        "        i += 1"
      ],
      "execution_count": null,
      "outputs": []
    },
    {
      "cell_type": "code",
      "metadata": {
        "id": "rSkG_UxQESOb",
        "outputId": "8c64b28b-5fbc-4f99-ef74-516d1825f298",
        "colab": {
          "base_uri": "https://localhost:8080/"
        }
      },
      "source": [
        "process_signals(file)"
      ],
      "execution_count": null,
      "outputs": [
        {
          "output_type": "stream",
          "text": [
            "['00055091.png', '17.93198859935223', '0.3407810926437378', '0.06523145735263824', '0.0']\n",
            "['00055091.png', 17.93, 0.34, 0.535, 0.0]\n",
            "['00055091.png', 17.93, 0.34, 0.535, 0.0]\n",
            "['00055091.png', 17.93, 0.34, 0.535, 0.0, 1]\n"
          ],
          "name": "stdout"
        }
      ]
    },
    {
      "cell_type": "code",
      "metadata": {
        "id": "pMnlIDiKEn0u"
      },
      "source": [
        "process_images(file, BASE_PATH, (144, 144))"
      ],
      "execution_count": null,
      "outputs": []
    },
    {
      "cell_type": "markdown",
      "metadata": {
        "id": "qfoJKhP4BNUM"
      },
      "source": [
        "#helper functions start"
      ]
    },
    {
      "cell_type": "code",
      "metadata": {
        "id": "8ctuTVULFe4m"
      },
      "source": [
        "# imports\n",
        "from tensorflow.keras.preprocessing.image import ImageDataGenerator\n",
        "import tensorflow\n",
        "import pandas as pd"
      ],
      "execution_count": null,
      "outputs": []
    },
    {
      "cell_type": "code",
      "metadata": {
        "id": "zmG9Z7i6C2Kv"
      },
      "source": [
        "# global variables\n",
        "DATASET_PATH = '/content/dataset/train/'\n",
        "BATCH_SIZE = 256"
      ],
      "execution_count": null,
      "outputs": []
    },
    {
      "cell_type": "markdown",
      "metadata": {
        "id": "XMz8tAnyBdA8"
      },
      "source": [
        "## load input images"
      ]
    },
    {
      "cell_type": "code",
      "metadata": {
        "id": "BkUbAVqjBhOs"
      },
      "source": [
        "def load_data_direction(train_path, test_path, BATCH_SIZE):\n",
        "    train_datagen = ImageDataGenerator(rescale=1.0/255.0, validation_split=0.33) # normalize image value between 0.0 to 1.0\n",
        "    #test_datagen = ImageDataGenerator(rescale=1.0/255.0)\n",
        "    train_gen = train_datagen.flow_from_directory(\n",
        "        train_path, batch_size=BATCH_SIZE, color_mode='grayscale', \n",
        "        target_size=(144, 144), class_mode='sparse', subset='training')\n",
        "    test_gen = train_datagen.flow_from_directory(\n",
        "        test_path, batch_size=BATCH_SIZE, color_mode='grayscale', \n",
        "        target_size=(144, 144), class_mode='sparse', subset='validation')\n",
        "\n",
        "    return train_gen, test_gen"
      ],
      "execution_count": null,
      "outputs": []
    },
    {
      "cell_type": "code",
      "metadata": {
        "id": "YuPn6DnfqGgw",
        "outputId": "2200f7d2-4f90-4783-b825-8a016c838121",
        "colab": {
          "base_uri": "https://localhost:8080/"
        }
      },
      "source": [
        "train, test = load_data_direction(DATASET_PATH, DATASET_PATH, BATCH_SIZE)\n",
        "print(type(train))\n",
        "print(type(test))"
      ],
      "execution_count": null,
      "outputs": [
        {
          "output_type": "stream",
          "text": [
            "Found 2809 images belonging to 3 classes.\n",
            "Found 1382 images belonging to 3 classes.\n",
            "<class 'tensorflow.python.keras.preprocessing.image.DirectoryIterator'>\n",
            "<class 'tensorflow.python.keras.preprocessing.image.DirectoryIterator'>\n"
          ],
          "name": "stdout"
        }
      ]
    },
    {
      "cell_type": "markdown",
      "metadata": {
        "id": "-8p7fld2vSzm"
      },
      "source": [
        "## load signals"
      ]
    },
    {
      "cell_type": "code",
      "metadata": {
        "id": "YpdhCw8UHHgU"
      },
      "source": [
        "def getIndex(data):\n",
        "    index = []\n",
        "    for i in range(data.shape[0]):\n",
        "        row = data[i, :]\n",
        "        if row[-1] == 1:\n",
        "            if row[-2] == 0.0:\n",
        "                if row[2] > 0.48 and row[2] < 0.52:\n",
        "                    if row[0] > 15 and row[1] < 20:\n",
        "                        index.append(i)\n",
        "    \n",
        "    return index\n",
        "                        \n",
        "def filter(data):\n",
        "    d = data.drop(getIndex(data.to_numpy()))\n",
        "    return d\n",
        "\n",
        "def load_data_signals(train_path, test_path):\n",
        "    data = pd.read_csv(train_path, delimiter=',', header=None)\n",
        "    data = data.iloc[:,1:6]\n",
        "\n",
        "    data = filter(data)\n",
        "    data = data.sample(frac=1)\n",
        "    split = data.shape[0]\n",
        "\n",
        "    split = int(split * 2 / 3)\n",
        "\n",
        "    X_train = pd.DataFrame()\n",
        "    Y_train = pd.DataFrame()\n",
        "\n",
        "    X_train['speed'] = data.iloc[0:split,0]\n",
        "    X_train['dir'] = data.iloc[0:split,4]\n",
        "\n",
        "    Y_train['throttle'] = data.iloc[0:split, 1]\n",
        "    Y_train['steer'] = data.iloc[0:split, 2]\n",
        "    Y_train['brake'] = data.iloc[0:split,3].apply(lambda y: 0.0 if y < 0.5 else 1.0)\n",
        "\n",
        "    X_test = pd.DataFrame()\n",
        "    Y_test = pd.DataFrame()\n",
        "\n",
        "    X_test['speed'] = data.iloc[split:,0]\n",
        "    X_test['dir'] = data.iloc[split:,4]\n",
        "\n",
        "    Y_test['throttle'] = data.iloc[split:, 1]\n",
        "    Y_test['steer'] = data.iloc[split:, 2]\n",
        "    Y_test['brake'] = data.iloc[split:,3].apply(lambda y: 0.0 if y < 0.5 else 1.0)\n",
        "    \n",
        "    return X_train, X_test, Y_train, Y_test"
      ],
      "execution_count": null,
      "outputs": []
    },
    {
      "cell_type": "code",
      "metadata": {
        "id": "TCgMS_rbq0bp",
        "outputId": "b1e0553f-9c41-4a9f-de36-c06d72011698",
        "colab": {
          "base_uri": "https://localhost:8080/"
        }
      },
      "source": [
        "xtrain, xtest, ytrain, ytest = load_data_signals(file, file)\n",
        "print(type(xtrain))"
      ],
      "execution_count": null,
      "outputs": [
        {
          "output_type": "stream",
          "text": [
            "<class 'pandas.core.frame.DataFrame'>\n"
          ],
          "name": "stdout"
        }
      ]
    },
    {
      "cell_type": "code",
      "metadata": {
        "id": "V68Y0Xvj3HVK",
        "outputId": "5a1a1d6c-c298-4dd5-b9bb-76c6e1b13cd4",
        "colab": {
          "base_uri": "https://localhost:8080/"
        }
      },
      "source": [
        "print(xtest.shape)"
      ],
      "execution_count": null,
      "outputs": [
        {
          "output_type": "stream",
          "text": [
            "(518, 2)\n"
          ],
          "name": "stdout"
        }
      ]
    },
    {
      "cell_type": "markdown",
      "metadata": {
        "id": "-T7_A5jHHSWM"
      },
      "source": [
        "# train models"
      ]
    },
    {
      "cell_type": "markdown",
      "metadata": {
        "id": "idee59_HHV_C"
      },
      "source": [
        "## train direction model"
      ]
    },
    {
      "cell_type": "code",
      "metadata": {
        "id": "KD2gdP36Gmn0",
        "outputId": "87206094-1a99-4b59-cc34-8cafc31f6a40",
        "colab": {
          "base_uri": "https://localhost:8080/"
        }
      },
      "source": [
        "dir_model = directionModel(shape=(144, 144, 1))\n",
        "dir_model.summary()"
      ],
      "execution_count": null,
      "outputs": [
        {
          "output_type": "stream",
          "text": [
            "Model: \"functional_5\"\n",
            "_________________________________________________________________\n",
            "Layer (type)                 Output Shape              Param #   \n",
            "=================================================================\n",
            "input_3 (InputLayer)         [(None, 144, 144, 1)]     0         \n",
            "_________________________________________________________________\n",
            "conv2d (Conv2D)              (None, 140, 140, 16)      416       \n",
            "_________________________________________________________________\n",
            "max_pooling2d (MaxPooling2D) (None, 70, 70, 16)        0         \n",
            "_________________________________________________________________\n",
            "conv2d_1 (Conv2D)            (None, 68, 68, 32)        4640      \n",
            "_________________________________________________________________\n",
            "max_pooling2d_1 (MaxPooling2 (None, 34, 34, 32)        0         \n",
            "_________________________________________________________________\n",
            "conv2d_2 (Conv2D)            (None, 32, 32, 64)        18496     \n",
            "_________________________________________________________________\n",
            "max_pooling2d_2 (MaxPooling2 (None, 16, 16, 64)        0         \n",
            "_________________________________________________________________\n",
            "conv2d_3 (Conv2D)            (None, 14, 14, 128)       73856     \n",
            "_________________________________________________________________\n",
            "max_pooling2d_3 (MaxPooling2 (None, 7, 7, 128)         0         \n",
            "_________________________________________________________________\n",
            "flatten (Flatten)            (None, 6272)              0         \n",
            "_________________________________________________________________\n",
            "dense_10 (Dense)             (None, 512)               3211776   \n",
            "_________________________________________________________________\n",
            "dense_11 (Dense)             (None, 128)               65664     \n",
            "_________________________________________________________________\n",
            "dense_12 (Dense)             (None, 3)                 387       \n",
            "=================================================================\n",
            "Total params: 3,375,235\n",
            "Trainable params: 3,375,235\n",
            "Non-trainable params: 0\n",
            "_________________________________________________________________\n"
          ],
          "name": "stdout"
        }
      ]
    },
    {
      "cell_type": "code",
      "metadata": {
        "id": "i_WoclnkHqgo"
      },
      "source": [
        "dir_model.compile(optimizer='adam', loss='sparse_categorical_crossentropy', \n",
        "                  metrics=['acc'])"
      ],
      "execution_count": null,
      "outputs": []
    },
    {
      "cell_type": "code",
      "metadata": {
        "id": "sTSG9NYWH8Ig",
        "outputId": "1588befb-690e-4b9b-ef6b-aa8bfac9d5cf",
        "colab": {
          "base_uri": "https://localhost:8080/"
        }
      },
      "source": [
        "history = dir_model.fit(train, epochs=10, validation_data=test, verbose=1)"
      ],
      "execution_count": null,
      "outputs": [
        {
          "output_type": "stream",
          "text": [
            "Epoch 1/10\n",
            "11/11 [==============================] - 57s 5s/step - loss: 0.5783 - acc: 0.8095 - val_loss: 0.3199 - val_acc: 0.8184\n",
            "Epoch 2/10\n",
            "11/11 [==============================] - 56s 5s/step - loss: 0.2074 - acc: 0.9220 - val_loss: 0.1615 - val_acc: 0.9595\n",
            "Epoch 3/10\n",
            "11/11 [==============================] - 56s 5s/step - loss: 0.1235 - acc: 0.9662 - val_loss: 0.1056 - val_acc: 0.9530\n",
            "Epoch 4/10\n",
            "11/11 [==============================] - 56s 5s/step - loss: 0.0877 - acc: 0.9708 - val_loss: 0.0800 - val_acc: 0.9747\n",
            "Epoch 5/10\n",
            "11/11 [==============================] - 56s 5s/step - loss: 0.0642 - acc: 0.9808 - val_loss: 0.0933 - val_acc: 0.9667\n",
            "Epoch 6/10\n",
            "11/11 [==============================] - 56s 5s/step - loss: 0.0514 - acc: 0.9843 - val_loss: 0.1032 - val_acc: 0.9667\n",
            "Epoch 7/10\n",
            "11/11 [==============================] - 57s 5s/step - loss: 0.0422 - acc: 0.9854 - val_loss: 0.1244 - val_acc: 0.9653\n",
            "Epoch 8/10\n",
            "11/11 [==============================] - 56s 5s/step - loss: 0.0284 - acc: 0.9929 - val_loss: 0.0711 - val_acc: 0.9768\n",
            "Epoch 9/10\n",
            "11/11 [==============================] - 56s 5s/step - loss: 0.0272 - acc: 0.9929 - val_loss: 0.1393 - val_acc: 0.9588\n",
            "Epoch 10/10\n",
            "11/11 [==============================] - 57s 5s/step - loss: 0.0173 - acc: 0.9939 - val_loss: 0.1274 - val_acc: 0.9689\n"
          ],
          "name": "stdout"
        }
      ]
    },
    {
      "cell_type": "code",
      "metadata": {
        "id": "piRU_-5cLW_y",
        "outputId": "4acd3e28-094a-4cbb-cde2-272ca4378c69",
        "colab": {
          "base_uri": "https://localhost:8080/"
        }
      },
      "source": [
        "from PIL import Image\n",
        "img = Image.open('/content/dataset/train/1/00006074.png')\n",
        "img = np.array(img)\n",
        "img = img / 255.0\n",
        "img = np.expand_dims(img, axis=-1)\n",
        "img = np.expand_dims(img, axis=0)\n",
        "img = tf.constant(img)\n",
        "print(img.shape)"
      ],
      "execution_count": null,
      "outputs": [
        {
          "output_type": "stream",
          "text": [
            "(1, 144, 144, 1)\n"
          ],
          "name": "stdout"
        }
      ]
    },
    {
      "cell_type": "code",
      "metadata": {
        "id": "XAz4GsoAbzqS",
        "outputId": "980a9296-c7ab-4110-8e5f-2801d9536a63",
        "colab": {
          "base_uri": "https://localhost:8080/"
        }
      },
      "source": [
        "dir_model.predict(img)"
      ],
      "execution_count": null,
      "outputs": [
        {
          "output_type": "execute_result",
          "data": {
            "text/plain": [
              "array([[3.39443710e-14, 1.00000000e+00, 1.18396105e-14]], dtype=float32)"
            ]
          },
          "metadata": {
            "tags": []
          },
          "execution_count": 131
        }
      ]
    },
    {
      "cell_type": "markdown",
      "metadata": {
        "id": "2aP5gS5lh_zj"
      },
      "source": [
        "## train signals model\n"
      ]
    },
    {
      "cell_type": "code",
      "metadata": {
        "id": "JnEsFNqriDID",
        "outputId": "78bcfea3-be33-44d1-b364-e8a1098ef60c",
        "colab": {
          "base_uri": "https://localhost:8080/"
        }
      },
      "source": [
        "sig_model = signalsModel()\n",
        "sig_model.summary()"
      ],
      "execution_count": null,
      "outputs": [
        {
          "output_type": "stream",
          "text": [
            "Model: \"functional_3\"\n",
            "_________________________________________________________________\n",
            "Layer (type)                 Output Shape              Param #   \n",
            "=================================================================\n",
            "input_2 (InputLayer)         [(None, 2)]               0         \n",
            "_________________________________________________________________\n",
            "dense_5 (Dense)              (None, 16)                48        \n",
            "_________________________________________________________________\n",
            "dense_6 (Dense)              (None, 32)                544       \n",
            "_________________________________________________________________\n",
            "dense_7 (Dense)              (None, 64)                2112      \n",
            "_________________________________________________________________\n",
            "dense_8 (Dense)              (None, 32)                2080      \n",
            "_________________________________________________________________\n",
            "dense_9 (Dense)              (None, 3)                 99        \n",
            "=================================================================\n",
            "Total params: 4,883\n",
            "Trainable params: 4,883\n",
            "Non-trainable params: 0\n",
            "_________________________________________________________________\n"
          ],
          "name": "stdout"
        }
      ]
    },
    {
      "cell_type": "code",
      "metadata": {
        "id": "TXRgWqqoiKHk"
      },
      "source": [
        "sig_model.compile(optimizer='adam', loss='mse', metrics=['acc'])"
      ],
      "execution_count": null,
      "outputs": []
    },
    {
      "cell_type": "code",
      "metadata": {
        "id": "zQa-tmHTmPUg",
        "outputId": "ae7d2bfc-3d40-4ad3-c9ca-1cf1ea16883d",
        "colab": {
          "base_uri": "https://localhost:8080/"
        }
      },
      "source": [
        "ytest.shape"
      ],
      "execution_count": null,
      "outputs": [
        {
          "output_type": "execute_result",
          "data": {
            "text/plain": [
              "(1190, 3)"
            ]
          },
          "metadata": {
            "tags": []
          },
          "execution_count": 24
        }
      ]
    },
    {
      "cell_type": "code",
      "metadata": {
        "id": "I5i3DkwniWy9",
        "outputId": "c78ac499-b827-4cce-8eae-f8cfa0207f60",
        "colab": {
          "base_uri": "https://localhost:8080/"
        }
      },
      "source": [
        "his = sig_model.fit(x=xtrain, y=ytrain, epochs=100, verbose=1, validation_data=(xtest.to_numpy(), ytest.to_numpy()))"
      ],
      "execution_count": null,
      "outputs": [
        {
          "output_type": "stream",
          "text": [
            "Epoch 1/100\n",
            "33/33 [==============================] - 0s 3ms/step - loss: 0.0154 - acc: 0.8135 - val_loss: 0.0149 - val_acc: 0.7915\n",
            "Epoch 2/100\n",
            "33/33 [==============================] - 0s 2ms/step - loss: 0.0165 - acc: 0.7855 - val_loss: 0.0139 - val_acc: 0.8649\n",
            "Epoch 3/100\n",
            "33/33 [==============================] - 0s 2ms/step - loss: 0.0161 - acc: 0.7768 - val_loss: 0.0156 - val_acc: 0.8378\n",
            "Epoch 4/100\n",
            "33/33 [==============================] - 0s 3ms/step - loss: 0.0181 - acc: 0.7623 - val_loss: 0.0163 - val_acc: 0.7722\n",
            "Epoch 5/100\n",
            "33/33 [==============================] - 0s 2ms/step - loss: 0.0187 - acc: 0.7478 - val_loss: 0.0168 - val_acc: 0.6429\n",
            "Epoch 6/100\n",
            "33/33 [==============================] - 0s 2ms/step - loss: 0.0185 - acc: 0.7082 - val_loss: 0.0160 - val_acc: 0.8629\n",
            "Epoch 7/100\n",
            "33/33 [==============================] - 0s 2ms/step - loss: 0.0183 - acc: 0.7353 - val_loss: 0.0159 - val_acc: 0.7780\n",
            "Epoch 8/100\n",
            "33/33 [==============================] - 0s 2ms/step - loss: 0.0181 - acc: 0.7758 - val_loss: 0.0159 - val_acc: 0.7838\n",
            "Epoch 9/100\n",
            "33/33 [==============================] - 0s 2ms/step - loss: 0.0182 - acc: 0.7884 - val_loss: 0.0153 - val_acc: 0.8050\n",
            "Epoch 10/100\n",
            "33/33 [==============================] - 0s 2ms/step - loss: 0.0182 - acc: 0.7952 - val_loss: 0.0154 - val_acc: 0.8784\n",
            "Epoch 11/100\n",
            "33/33 [==============================] - 0s 2ms/step - loss: 0.0181 - acc: 0.7585 - val_loss: 0.0161 - val_acc: 0.8436\n",
            "Epoch 12/100\n",
            "33/33 [==============================] - 0s 2ms/step - loss: 0.0181 - acc: 0.7797 - val_loss: 0.0161 - val_acc: 0.8687\n",
            "Epoch 13/100\n",
            "33/33 [==============================] - 0s 2ms/step - loss: 0.0181 - acc: 0.7807 - val_loss: 0.0158 - val_acc: 0.8108\n",
            "Epoch 14/100\n",
            "33/33 [==============================] - 0s 2ms/step - loss: 0.0180 - acc: 0.7768 - val_loss: 0.0154 - val_acc: 0.6641\n",
            "Epoch 15/100\n",
            "33/33 [==============================] - 0s 2ms/step - loss: 0.0183 - acc: 0.7787 - val_loss: 0.0160 - val_acc: 0.9015\n",
            "Epoch 16/100\n",
            "33/33 [==============================] - 0s 2ms/step - loss: 0.0185 - acc: 0.7546 - val_loss: 0.0160 - val_acc: 0.8745\n",
            "Epoch 17/100\n",
            "33/33 [==============================] - 0s 2ms/step - loss: 0.0182 - acc: 0.7758 - val_loss: 0.0160 - val_acc: 0.6718\n",
            "Epoch 18/100\n",
            "33/33 [==============================] - 0s 2ms/step - loss: 0.0180 - acc: 0.7536 - val_loss: 0.0158 - val_acc: 0.8764\n",
            "Epoch 19/100\n",
            "33/33 [==============================] - 0s 2ms/step - loss: 0.0181 - acc: 0.8058 - val_loss: 0.0158 - val_acc: 0.7819\n",
            "Epoch 20/100\n",
            "33/33 [==============================] - 0s 2ms/step - loss: 0.0180 - acc: 0.7372 - val_loss: 0.0160 - val_acc: 0.6757\n",
            "Epoch 21/100\n",
            "33/33 [==============================] - 0s 2ms/step - loss: 0.0180 - acc: 0.7749 - val_loss: 0.0158 - val_acc: 0.7876\n",
            "Epoch 22/100\n",
            "33/33 [==============================] - 0s 2ms/step - loss: 0.0179 - acc: 0.7990 - val_loss: 0.0153 - val_acc: 0.8861\n",
            "Epoch 23/100\n",
            "33/33 [==============================] - 0s 2ms/step - loss: 0.0181 - acc: 0.7604 - val_loss: 0.0157 - val_acc: 0.8938\n",
            "Epoch 24/100\n",
            "33/33 [==============================] - 0s 2ms/step - loss: 0.0180 - acc: 0.7498 - val_loss: 0.0154 - val_acc: 0.8069\n",
            "Epoch 25/100\n",
            "33/33 [==============================] - 0s 2ms/step - loss: 0.0150 - acc: 0.7787 - val_loss: 0.0189 - val_acc: 0.6351\n",
            "Epoch 26/100\n",
            "33/33 [==============================] - 0s 2ms/step - loss: 0.0151 - acc: 0.7459 - val_loss: 0.0125 - val_acc: 0.8494\n",
            "Epoch 27/100\n",
            "33/33 [==============================] - 0s 2ms/step - loss: 0.0134 - acc: 0.7739 - val_loss: 0.0129 - val_acc: 0.6853\n",
            "Epoch 28/100\n",
            "33/33 [==============================] - 0s 2ms/step - loss: 0.0125 - acc: 0.7710 - val_loss: 0.0135 - val_acc: 0.8629\n",
            "Epoch 29/100\n",
            "33/33 [==============================] - 0s 2ms/step - loss: 0.0130 - acc: 0.7865 - val_loss: 0.0124 - val_acc: 0.8147\n",
            "Epoch 30/100\n",
            "33/33 [==============================] - 0s 2ms/step - loss: 0.0127 - acc: 0.8019 - val_loss: 0.0129 - val_acc: 0.8571\n",
            "Epoch 31/100\n",
            "33/33 [==============================] - 0s 2ms/step - loss: 0.0122 - acc: 0.8512 - val_loss: 0.0116 - val_acc: 0.8745\n",
            "Epoch 32/100\n",
            "33/33 [==============================] - 0s 2ms/step - loss: 0.0116 - acc: 0.8464 - val_loss: 0.0117 - val_acc: 0.9093\n",
            "Epoch 33/100\n",
            "33/33 [==============================] - 0s 2ms/step - loss: 0.0120 - acc: 0.8908 - val_loss: 0.0118 - val_acc: 0.8784\n",
            "Epoch 34/100\n",
            "33/33 [==============================] - 0s 2ms/step - loss: 0.0117 - acc: 0.8242 - val_loss: 0.0117 - val_acc: 0.9015\n",
            "Epoch 35/100\n",
            "33/33 [==============================] - 0s 2ms/step - loss: 0.0119 - acc: 0.8097 - val_loss: 0.0120 - val_acc: 0.8938\n",
            "Epoch 36/100\n",
            "33/33 [==============================] - 0s 2ms/step - loss: 0.0118 - acc: 0.8116 - val_loss: 0.0116 - val_acc: 0.8822\n",
            "Epoch 37/100\n",
            "33/33 [==============================] - 0s 2ms/step - loss: 0.0115 - acc: 0.8493 - val_loss: 0.0118 - val_acc: 0.8822\n",
            "Epoch 38/100\n",
            "33/33 [==============================] - 0s 2ms/step - loss: 0.0114 - acc: 0.8077 - val_loss: 0.0115 - val_acc: 0.8726\n",
            "Epoch 39/100\n",
            "33/33 [==============================] - 0s 2ms/step - loss: 0.0113 - acc: 0.8618 - val_loss: 0.0115 - val_acc: 0.9073\n",
            "Epoch 40/100\n",
            "33/33 [==============================] - 0s 2ms/step - loss: 0.0115 - acc: 0.8773 - val_loss: 0.0120 - val_acc: 0.9093\n",
            "Epoch 41/100\n",
            "33/33 [==============================] - 0s 2ms/step - loss: 0.0112 - acc: 0.8599 - val_loss: 0.0119 - val_acc: 0.7355\n",
            "Epoch 42/100\n",
            "33/33 [==============================] - 0s 2ms/step - loss: 0.0119 - acc: 0.7614 - val_loss: 0.0117 - val_acc: 0.8919\n",
            "Epoch 43/100\n",
            "33/33 [==============================] - 0s 2ms/step - loss: 0.0115 - acc: 0.8715 - val_loss: 0.0118 - val_acc: 0.6950\n",
            "Epoch 44/100\n",
            "33/33 [==============================] - 0s 2ms/step - loss: 0.0113 - acc: 0.8261 - val_loss: 0.0115 - val_acc: 0.9054\n",
            "Epoch 45/100\n",
            "33/33 [==============================] - 0s 2ms/step - loss: 0.0115 - acc: 0.8638 - val_loss: 0.0126 - val_acc: 0.7452\n",
            "Epoch 46/100\n",
            "33/33 [==============================] - 0s 2ms/step - loss: 0.0113 - acc: 0.8599 - val_loss: 0.0116 - val_acc: 0.8861\n",
            "Epoch 47/100\n",
            "33/33 [==============================] - 0s 2ms/step - loss: 0.0116 - acc: 0.8618 - val_loss: 0.0117 - val_acc: 0.8880\n",
            "Epoch 48/100\n",
            "33/33 [==============================] - 0s 2ms/step - loss: 0.0113 - acc: 0.8638 - val_loss: 0.0113 - val_acc: 0.9054\n",
            "Epoch 49/100\n",
            "33/33 [==============================] - 0s 2ms/step - loss: 0.0113 - acc: 0.8705 - val_loss: 0.0116 - val_acc: 0.8707\n",
            "Epoch 50/100\n",
            "33/33 [==============================] - 0s 2ms/step - loss: 0.0111 - acc: 0.8483 - val_loss: 0.0114 - val_acc: 0.8900\n",
            "Epoch 51/100\n",
            "33/33 [==============================] - 0s 2ms/step - loss: 0.0109 - acc: 0.8570 - val_loss: 0.0115 - val_acc: 0.9054\n",
            "Epoch 52/100\n",
            "33/33 [==============================] - 0s 3ms/step - loss: 0.0110 - acc: 0.8744 - val_loss: 0.0113 - val_acc: 0.9015\n",
            "Epoch 53/100\n",
            "33/33 [==============================] - 0s 3ms/step - loss: 0.0109 - acc: 0.8502 - val_loss: 0.0113 - val_acc: 0.9035\n",
            "Epoch 54/100\n",
            "33/33 [==============================] - 0s 3ms/step - loss: 0.0110 - acc: 0.8618 - val_loss: 0.0115 - val_acc: 0.9093\n",
            "Epoch 55/100\n",
            "33/33 [==============================] - 0s 2ms/step - loss: 0.0111 - acc: 0.8599 - val_loss: 0.0118 - val_acc: 0.9073\n",
            "Epoch 56/100\n",
            "33/33 [==============================] - 0s 2ms/step - loss: 0.0111 - acc: 0.8754 - val_loss: 0.0114 - val_acc: 0.8803\n",
            "Epoch 57/100\n",
            "33/33 [==============================] - 0s 3ms/step - loss: 0.0111 - acc: 0.8493 - val_loss: 0.0115 - val_acc: 0.8861\n",
            "Epoch 58/100\n",
            "33/33 [==============================] - 0s 2ms/step - loss: 0.0113 - acc: 0.8261 - val_loss: 0.0115 - val_acc: 0.7452\n",
            "Epoch 59/100\n",
            "33/33 [==============================] - 0s 2ms/step - loss: 0.0111 - acc: 0.8744 - val_loss: 0.0124 - val_acc: 0.8784\n",
            "Epoch 60/100\n",
            "33/33 [==============================] - 0s 2ms/step - loss: 0.0115 - acc: 0.8435 - val_loss: 0.0128 - val_acc: 0.7027\n",
            "Epoch 61/100\n",
            "33/33 [==============================] - 0s 2ms/step - loss: 0.0116 - acc: 0.7971 - val_loss: 0.0111 - val_acc: 0.8822\n",
            "Epoch 62/100\n",
            "33/33 [==============================] - 0s 2ms/step - loss: 0.0108 - acc: 0.8705 - val_loss: 0.0114 - val_acc: 0.9035\n",
            "Epoch 63/100\n",
            "33/33 [==============================] - 0s 2ms/step - loss: 0.0109 - acc: 0.8560 - val_loss: 0.0113 - val_acc: 0.8900\n",
            "Epoch 64/100\n",
            "33/33 [==============================] - 0s 2ms/step - loss: 0.0110 - acc: 0.8686 - val_loss: 0.0112 - val_acc: 0.8803\n",
            "Epoch 65/100\n",
            "33/33 [==============================] - 0s 2ms/step - loss: 0.0109 - acc: 0.8763 - val_loss: 0.0115 - val_acc: 0.9112\n",
            "Epoch 66/100\n",
            "33/33 [==============================] - 0s 2ms/step - loss: 0.0113 - acc: 0.8435 - val_loss: 0.0113 - val_acc: 0.8784\n",
            "Epoch 67/100\n",
            "33/33 [==============================] - 0s 2ms/step - loss: 0.0110 - acc: 0.8715 - val_loss: 0.0112 - val_acc: 0.8803\n",
            "Epoch 68/100\n",
            "33/33 [==============================] - 0s 2ms/step - loss: 0.0114 - acc: 0.7787 - val_loss: 0.0112 - val_acc: 0.8822\n",
            "Epoch 69/100\n",
            "33/33 [==============================] - 0s 2ms/step - loss: 0.0109 - acc: 0.8647 - val_loss: 0.0111 - val_acc: 0.8822\n",
            "Epoch 70/100\n",
            "33/33 [==============================] - 0s 2ms/step - loss: 0.0109 - acc: 0.8406 - val_loss: 0.0115 - val_acc: 0.8205\n",
            "Epoch 71/100\n",
            "33/33 [==============================] - 0s 2ms/step - loss: 0.0109 - acc: 0.8686 - val_loss: 0.0113 - val_acc: 0.8822\n",
            "Epoch 72/100\n",
            "33/33 [==============================] - 0s 2ms/step - loss: 0.0107 - acc: 0.8754 - val_loss: 0.0112 - val_acc: 0.9054\n",
            "Epoch 73/100\n",
            "33/33 [==============================] - 0s 2ms/step - loss: 0.0109 - acc: 0.8618 - val_loss: 0.0111 - val_acc: 0.9054\n",
            "Epoch 74/100\n",
            "33/33 [==============================] - 0s 2ms/step - loss: 0.0109 - acc: 0.8618 - val_loss: 0.0120 - val_acc: 0.8610\n",
            "Epoch 75/100\n",
            "33/33 [==============================] - 0s 2ms/step - loss: 0.0113 - acc: 0.8512 - val_loss: 0.0111 - val_acc: 0.9073\n",
            "Epoch 76/100\n",
            "33/33 [==============================] - 0s 2ms/step - loss: 0.0108 - acc: 0.8676 - val_loss: 0.0112 - val_acc: 0.9073\n",
            "Epoch 77/100\n",
            "33/33 [==============================] - 0s 2ms/step - loss: 0.0106 - acc: 0.8783 - val_loss: 0.0110 - val_acc: 0.9015\n",
            "Epoch 78/100\n",
            "33/33 [==============================] - 0s 2ms/step - loss: 0.0107 - acc: 0.8860 - val_loss: 0.0109 - val_acc: 0.8861\n",
            "Epoch 79/100\n",
            "33/33 [==============================] - 0s 2ms/step - loss: 0.0112 - acc: 0.8058 - val_loss: 0.0114 - val_acc: 0.7124\n",
            "Epoch 80/100\n",
            "33/33 [==============================] - 0s 2ms/step - loss: 0.0108 - acc: 0.8647 - val_loss: 0.0110 - val_acc: 0.9073\n",
            "Epoch 81/100\n",
            "33/33 [==============================] - 0s 2ms/step - loss: 0.0110 - acc: 0.8647 - val_loss: 0.0111 - val_acc: 0.8880\n",
            "Epoch 82/100\n",
            "33/33 [==============================] - 0s 2ms/step - loss: 0.0109 - acc: 0.8290 - val_loss: 0.0114 - val_acc: 0.8861\n",
            "Epoch 83/100\n",
            "33/33 [==============================] - 0s 2ms/step - loss: 0.0109 - acc: 0.8686 - val_loss: 0.0110 - val_acc: 0.8900\n",
            "Epoch 84/100\n",
            "33/33 [==============================] - 0s 2ms/step - loss: 0.0106 - acc: 0.8705 - val_loss: 0.0121 - val_acc: 0.8900\n",
            "Epoch 85/100\n",
            "33/33 [==============================] - 0s 2ms/step - loss: 0.0107 - acc: 0.8676 - val_loss: 0.0110 - val_acc: 0.9073\n",
            "Epoch 86/100\n",
            "33/33 [==============================] - 0s 2ms/step - loss: 0.0108 - acc: 0.8763 - val_loss: 0.0111 - val_acc: 0.9035\n",
            "Epoch 87/100\n",
            "33/33 [==============================] - 0s 2ms/step - loss: 0.0108 - acc: 0.8609 - val_loss: 0.0112 - val_acc: 0.8803\n",
            "Epoch 88/100\n",
            "33/33 [==============================] - 0s 2ms/step - loss: 0.0110 - acc: 0.8589 - val_loss: 0.0111 - val_acc: 0.8745\n",
            "Epoch 89/100\n",
            "33/33 [==============================] - 0s 2ms/step - loss: 0.0106 - acc: 0.8502 - val_loss: 0.0111 - val_acc: 0.9112\n",
            "Epoch 90/100\n",
            "33/33 [==============================] - 0s 2ms/step - loss: 0.0107 - acc: 0.8696 - val_loss: 0.0108 - val_acc: 0.8938\n",
            "Epoch 91/100\n",
            "33/33 [==============================] - 0s 2ms/step - loss: 0.0106 - acc: 0.8638 - val_loss: 0.0110 - val_acc: 0.8842\n",
            "Epoch 92/100\n",
            "33/33 [==============================] - 0s 2ms/step - loss: 0.0108 - acc: 0.8126 - val_loss: 0.0109 - val_acc: 0.9035\n",
            "Epoch 93/100\n",
            "33/33 [==============================] - 0s 3ms/step - loss: 0.0107 - acc: 0.8754 - val_loss: 0.0112 - val_acc: 0.8958\n",
            "Epoch 94/100\n",
            "33/33 [==============================] - 0s 2ms/step - loss: 0.0107 - acc: 0.8725 - val_loss: 0.0109 - val_acc: 0.9131\n",
            "Epoch 95/100\n",
            "33/33 [==============================] - 0s 2ms/step - loss: 0.0109 - acc: 0.8812 - val_loss: 0.0108 - val_acc: 0.8977\n",
            "Epoch 96/100\n",
            "33/33 [==============================] - 0s 2ms/step - loss: 0.0105 - acc: 0.8763 - val_loss: 0.0108 - val_acc: 0.8938\n",
            "Epoch 97/100\n",
            "33/33 [==============================] - 0s 2ms/step - loss: 0.0108 - acc: 0.8831 - val_loss: 0.0109 - val_acc: 0.8803\n",
            "Epoch 98/100\n",
            "33/33 [==============================] - 0s 2ms/step - loss: 0.0107 - acc: 0.8570 - val_loss: 0.0112 - val_acc: 0.8880\n",
            "Epoch 99/100\n",
            "33/33 [==============================] - 0s 2ms/step - loss: 0.0105 - acc: 0.8763 - val_loss: 0.0109 - val_acc: 0.8996\n",
            "Epoch 100/100\n",
            "33/33 [==============================] - 0s 2ms/step - loss: 0.0112 - acc: 0.8647 - val_loss: 0.0121 - val_acc: 0.6873\n"
          ],
          "name": "stdout"
        }
      ]
    },
    {
      "cell_type": "code",
      "metadata": {
        "id": "s323bvJwlF45",
        "outputId": "b8cbadc6-83a3-41f6-afda-7b1b553e8dad",
        "colab": {
          "base_uri": "https://localhost:8080/"
        }
      },
      "source": [
        "inp = np.array([44.92, 1])\n",
        "inp = np.expand_dims(inp, axis=0)\n",
        "print(sig_model.predict(inp))"
      ],
      "execution_count": null,
      "outputs": [
        {
          "output_type": "stream",
          "text": [
            "[[0.50492066 0.50044537 0.02602342]]\n"
          ],
          "name": "stdout"
        }
      ]
    },
    {
      "cell_type": "markdown",
      "metadata": {
        "id": "pJA5r-0_idIT"
      },
      "source": [
        "# test the overall stack"
      ]
    },
    {
      "cell_type": "code",
      "metadata": {
        "id": "ikD59LvXjlpA"
      },
      "source": [
        "from PIL import Image\n",
        "import numpy as np"
      ],
      "execution_count": null,
      "outputs": []
    },
    {
      "cell_type": "code",
      "metadata": {
        "id": "qghRpa-sm4xE"
      },
      "source": [
        "def predict(filename, speed):\n",
        "    img = Image.open(filename)\n",
        "    img = np.array(img)\n",
        "    img = img / 255.0\n",
        "    img = np.expand_dims(img, axis=-1)\n",
        "    img = np.expand_dims(img, axis=0)\n",
        "    img = tf.constant(img)\n",
        "\n",
        "    dir = dir_model.predict(img)\n",
        "    dir = dir.argmax()\n",
        "\n",
        "    inp = np.array([speed, dir])\n",
        "    inp = np.expand_dims(inp, axis=0)\n",
        "    signals = sig_model.predict(inp)\n",
        "    return signals"
      ],
      "execution_count": null,
      "outputs": []
    },
    {
      "cell_type": "code",
      "metadata": {
        "id": "d9Jm2JwYjXqV",
        "outputId": "59a0a20d-2c72-4a9c-c384-193a5c99a4bc",
        "colab": {
          "base_uri": "https://localhost:8080/"
        }
      },
      "source": [
        "predict('/content/dataset/train/0/00005858.png', 16.69)"
      ],
      "execution_count": null,
      "outputs": [
        {
          "output_type": "execute_result",
          "data": {
            "text/plain": [
              "array([[4.1445628e-01, 4.1284758e-01, 8.5142528e-06]], dtype=float32)"
            ]
          },
          "metadata": {
            "tags": []
          },
          "execution_count": 60
        }
      ]
    },
    {
      "cell_type": "markdown",
      "metadata": {
        "id": "tKl6f7yDdCqo"
      },
      "source": [
        "# save models"
      ]
    },
    {
      "cell_type": "code",
      "metadata": {
        "id": "fKY6JWuawQi8"
      },
      "source": [
        "dir_model.save('DirModel.h5')\n",
        "sig_model.save('SigModel.h5')"
      ],
      "execution_count": null,
      "outputs": []
    },
    {
      "cell_type": "code",
      "metadata": {
        "id": "iEMHJuKG6EZs"
      },
      "source": [
        "!cp SigModel.h5 drive/My\\ Drive/carla"
      ],
      "execution_count": null,
      "outputs": []
    },
    {
      "cell_type": "code",
      "metadata": {
        "id": "gP1R7vI56f4O",
        "outputId": "0512761d-eab7-4a9b-fb14-eaef06c4eb22",
        "colab": {
          "base_uri": "https://localhost:8080/"
        }
      },
      "source": [
        "!ls drive/My\\ Drive/carla"
      ],
      "execution_count": null,
      "outputs": [
        {
          "output_type": "stream",
          "text": [
            "dataset  DirModel.h5  SigModel.h5  win-build.zip\n"
          ],
          "name": "stdout"
        }
      ]
    }
  ]
}