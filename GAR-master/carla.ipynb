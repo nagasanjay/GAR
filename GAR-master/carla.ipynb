{
  "nbformat": 4,
  "nbformat_minor": 0,
  "metadata": {
    "colab": {
      "name": "carla.ipynb",
      "provenance": []
    },
    "kernelspec": {
      "name": "python3",
      "display_name": "Python 3"
    },
    "accelerator": "GPU"
  },
  "cells": [
    {
      "cell_type": "markdown",
      "metadata": {
        "id": "NxNsHVzctUC2",
        "colab_type": "text"
      },
      "source": [
        "# Change runtime to GPU before starting to work\n",
        "\n"
      ]
    },
    {
      "cell_type": "markdown",
      "metadata": {
        "id": "Vk0AXAMlthk1",
        "colab_type": "text"
      },
      "source": [
        "This segment does all the work of setting up a remote GUI interface for us\n",
        "\n",
        "**NOTE** create an account in ngork.com"
      ]
    },
    {
      "cell_type": "code",
      "metadata": {
        "id": "w4Ywwr43AGR9",
        "colab_type": "code",
        "colab": {}
      },
      "source": [
        "!pip install git+https://github.com/demotomohiro/remocolab.git\n",
        "import remocolab\n",
        "remocolab.setupVNC()"
      ],
      "execution_count": null,
      "outputs": []
    },
    {
      "cell_type": "markdown",
      "metadata": {
        "id": "qjK59IsutGKZ",
        "colab_type": "text"
      },
      "source": [
        "## The next segment is just to identify the GPUs and memory available\n",
        "no need to run this"
      ]
    },
    {
      "cell_type": "code",
      "metadata": {
        "id": "cOMvw8cA2y-I",
        "colab_type": "code",
        "colab": {}
      },
      "source": [
        "!ln -sf /opt/bin/nvidia-smi /usr/bin/nvidia-smi\n",
        "!pip install gputil\n",
        "!pip install psutil\n",
        "!pip install humanize\n",
        "import psutil\n",
        "import humanize\n",
        "import os\n",
        "import GPUtil as GPU\n",
        "GPUs = GPU.getGPUs()\n",
        "# XXX: only one GPU on Colab and isn’t guaranteed\n",
        "gpu = GPUs[0]\n",
        "def printm():\n",
        " process = psutil.Process(os.getpid())\n",
        " print(\"Gen RAM Free: \" + humanize.naturalsize( psutil.virtual_memory().available ), \" | Proc size: \" + humanize.naturalsize( process.memory_info().rss))\n",
        " print(\"GPU RAM Free: {0:.0f}MB | Used: {1:.0f}MB | Util {2:3.0f}% | Total {3:.0f}MB\".format(gpu.memoryFree, gpu.memoryUsed, gpu.memoryUtil*100, gpu.memoryTotal))\n",
        "printm()"
      ],
      "execution_count": null,
      "outputs": []
    },
    {
      "cell_type": "markdown",
      "metadata": {
        "id": "FKTMPhT0texF",
        "colab_type": "text"
      },
      "source": [
        "Download Carla"
      ]
    },
    {
      "cell_type": "code",
      "metadata": {
        "id": "X7ByzJxFryb-",
        "colab_type": "code",
        "colab": {
          "base_uri": "https://localhost:8080/",
          "height": 204
        },
        "outputId": "e432ee05-3ed1-42f0-d291-30a27d43a7f8"
      },
      "source": [
        "! sudo -u colab wget -O /home/colab/CARLA.tar.gz https://carla-releases.s3.eu-west-3.amazonaws.com/Linux/CARLA_0.9.9.tar.gz"
      ],
      "execution_count": null,
      "outputs": [
        {
          "output_type": "stream",
          "text": [
            "--2020-09-01 05:13:05--  https://carla-releases.s3.eu-west-3.amazonaws.com/Linux/CARLA_0.9.9.tar.gz\n",
            "Resolving carla-releases.s3.eu-west-3.amazonaws.com (carla-releases.s3.eu-west-3.amazonaws.com)... 52.95.154.40\n",
            "Connecting to carla-releases.s3.eu-west-3.amazonaws.com (carla-releases.s3.eu-west-3.amazonaws.com)|52.95.154.40|:443... connected.\n",
            "HTTP request sent, awaiting response... 200 OK\n",
            "Length: 3480210438 (3.2G) [application/x-tar]\n",
            "Saving to: ‘/home/colab/CARLA.tar.gz’\n",
            "\n",
            "/home/colab/CARLA.t 100%[===================>]   3.24G  22.0MB/s    in 2m 34s  \n",
            "\n",
            "2020-09-01 05:15:40 (21.5 MB/s) - ‘/home/colab/CARLA.tar.gz’ saved [3480210438/3480210438]\n",
            "\n"
          ],
          "name": "stdout"
        }
      ]
    },
    {
      "cell_type": "markdown",
      "metadata": {
        "id": "fdSB555ftrGF",
        "colab_type": "text"
      },
      "source": [
        "Unzip carla and move it to our virtual GUI"
      ]
    },
    {
      "cell_type": "code",
      "metadata": {
        "id": "EMCshGKSuxWP",
        "colab_type": "code",
        "colab": {}
      },
      "source": [
        "! sudo -u colab mkdir /home/colab/carla\n",
        "! sudo -u colab tar -xf /home/colab/CARLA.tar.gz -C /home/colab/carla"
      ],
      "execution_count": null,
      "outputs": []
    },
    {
      "cell_type": "markdown",
      "metadata": {
        "id": "KSf09xKdt_fS",
        "colab_type": "text"
      },
      "source": [
        "# run carla server in low quality level"
      ]
    },
    {
      "cell_type": "code",
      "metadata": {
        "id": "8qsNxIrM4mHk",
        "colab_type": "code",
        "colab": {
          "base_uri": "https://localhost:8080/",
          "height": 522
        },
        "outputId": "38712659-e940-477d-c0c8-c5ef62aa6301"
      },
      "source": [
        "! sudo -u colab DISPLAY= vglrun /home/colab/carla/CarlaUE4.sh -quality-level=Low"
      ],
      "execution_count": null,
      "outputs": [
        {
          "output_type": "stream",
          "text": [
            "4.24.3-0+++UE4+Release-4.24 518 0\n",
            "Disabling core dumps.\n",
            "error: XDG_RUNTIME_DIR not set in the environment.\n",
            "Home directory not accessible: Permission denied\n",
            "W: [pulseaudio] core-util.c: \u001b[1mFailed to open configuration file '/root/.config/pulse//daemon.conf': Permission denied\u001b[0m\n",
            "W: [pulseaudio] daemon-conf.c: \u001b[1mFailed to open configuration file: Permission denied\u001b[0m\n",
            "Home directory not accessible: Permission denied\n",
            "W: [pulseaudio] core-util.c: \u001b[1mFailed to open configuration file '/root/.config/pulse//daemon.conf': Permission denied\u001b[0m\n",
            "W: [pulseaudio] daemon-conf.c: \u001b[1mFailed to open configuration file: Permission denied\u001b[0m\n",
            "Home directory not accessible: Permission denied\n",
            "W: [pulseaudio] core-util.c: \u001b[1mFailed to open configuration file '/root/.config/pulse//daemon.conf': Permission denied\u001b[0m\n",
            "W: [pulseaudio] daemon-conf.c: \u001b[1mFailed to open configuration file: Permission denied\u001b[0m\n",
            "ALSA lib confmisc.c:767:(parse_card) cannot find card '0'\n",
            "ALSA lib conf.c:4528:(_snd_config_evaluate) function snd_func_card_driver returned error: No such file or directory\n",
            "ALSA lib confmisc.c:392:(snd_func_concat) error evaluating strings\n",
            "ALSA lib conf.c:4528:(_snd_config_evaluate) function snd_func_concat returned error: No such file or directory\n",
            "ALSA lib confmisc.c:1246:(snd_func_refer) error evaluating name\n",
            "ALSA lib conf.c:4528:(_snd_config_evaluate) function snd_func_refer returned error: No such file or directory\n",
            "ALSA lib conf.c:5007:(snd_config_expand) Evaluate error: No such file or directory\n",
            "ALSA lib pcm.c:2495:(snd_pcm_open_noupdate) Unknown PCM default\n",
            "ALSA lib confmisc.c:767:(parse_card) cannot find card '0'\n",
            "ALSA lib conf.c:4528:(_snd_config_evaluate) function snd_func_card_driver returned error: No such file or directory\n",
            "ALSA lib confmisc.c:392:(snd_func_concat) error evaluating strings\n",
            "ALSA lib conf.c:4528:(_snd_config_evaluate) function snd_func_concat returned error: No such file or directory\n",
            "ALSA lib confmisc.c:1246:(snd_func_refer) error evaluating name\n",
            "ALSA lib conf.c:4528:(_snd_config_evaluate) function snd_func_refer returned error: No such file or directory\n",
            "ALSA lib conf.c:5007:(snd_config_expand) Evaluate error: No such file or directory\n",
            "ALSA lib pcm.c:2495:(snd_pcm_open_noupdate) Unknown PCM default\n"
          ],
          "name": "stdout"
        }
      ]
    },
    {
      "cell_type": "markdown",
      "metadata": {
        "id": "7-tlF-rbuFTp",
        "colab_type": "text"
      },
      "source": [
        "That's all for now... Go work through your VNC viewer.\n",
        "\n",
        "**NOTE** Colab stops running if it doesn't detect any activities for 15-30 minutes. visit this page in between."
      ]
    },
    {
      "cell_type": "code",
      "metadata": {
        "id": "LIFIDGJKqod3",
        "colab_type": "code",
        "colab": {}
      },
      "source": [
        ""
      ],
      "execution_count": null,
      "outputs": []
    }
  ]
}